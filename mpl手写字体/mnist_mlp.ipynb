{
 "cells": [
  {
   "cell_type": "markdown",
   "metadata": {},
   "source": [
    "# MNIST 手写数字识别与 MLP\n",
    "\n",
    "本 Notebook 使用 TensorFlow/Keras 实现了一个多层感知机 (MLP)，包含三层隐藏层，用于分类 MNIST 手写数字数据集。"
   ]
  },
  {
   "cell_type": "code",
   "execution_count": null,
   "metadata": {},
   "outputs": [],
   "source": [
    "import tensorflow as tf\n",
    "from tensorflow.keras.datasets import mnist\n",
    "from tensorflow.keras.models import Sequential\n",
    "from tensorflow.keras.layers import Dense, Flatten\n",
    "import numpy as np\n",
    "import matplotlib.pyplot as plt\n",
    "\n",
    "# 设置随机种子以确保可重复性\n",
    "tf.random.set_seed(42)\n",
    "np.random.seed(42)"
   ]
  },
  {
   "cell_type": "markdown",
   "metadata": {},
   "source": [
    "## 1. 加载和预处理 MNIST 数据集\n",
    "\n",
    "加载 MNIST 数据集并将像素值归一化到 [0, 1] 范围。"
   ]
  },
  {
   "cell_type": "code",
   "execution_count": null,
   "metadata": {},
   "outputs": [],
   "source": [
    "# 加载 MNIST 数据集\n",
    "(x_train, y_train), (x_test, y_test) = mnist.load_data()\n",
    "\n",
    "# 归一化像素值到 [0, 1]\n",
    "x_train = x_train.astype('float32') / 255.0\n",
    "x_test = x_test.astype('float32') / 255.0\n",
    "\n",
    "# 打印数据集形状\n",
    "print(f'训练数据形状: {x_train.shape}')\n",
    "print(f'测试数据形状: {x_test.shape}')"
   ]
  },
  {
   "cell_type": "markdown",
   "metadata": {},
   "source": [
    "## 2. 可视化样本数据\n",
    "\n",
    "展示训练集中的几张样本图像。"
   ]
  },
  {
   "cell_type": "code",
   "execution_count": null,
   "metadata": {},
   "outputs": [],
   "source": [
    "# 绘制前几张图像\n",
    "plt.figure(figsize=(10, 2))\n",
    "for i in range(5):\n",
    "    plt.subplot(1, 5, i+1)\n",
    "    plt.imshow(x_train[i], cmap='gray')\n",
    "    plt.title(f'标签: {y_train[i]}')\n",
    "    plt.axis('off')\n",
    "plt.savefig('mnist_samples.png')"
   ]
  },
  {
   "cell_type": "markdown",
   "metadata": {},
   "source": [
    "## 3. 构建 MLP 模型\n",
    "\n",
    "创建一个包含三层隐藏层的 MLP：\n",
    "- 输入层：将 28x28 图像展平为 784 维向量\n",
    "- 隐藏层 1：256 个神经元，ReLU 激活函数\n",
    "- 隐藏层 2：128 个神经元，ReLU 激活函数\n",
    "- 隐藏层 3：64 个神经元，ReLU 激活函数\n",
    "- 输出层：10 个神经元（对应每个数字），Softmax 激活函数"
   ]
  },
  {
   "cell_type": "code",
   "execution_count": null,
   "metadata": {},
   "outputs": [],
   "source": [
    "# 构建 MLP 模型\n",
    "model = Sequential([\n",
    "    Flatten(input_shape=(28, 28)),  # 输入层\n",
    "    Dense(256, activation='relu'),  # 第一隐藏层\n",
    "    Dense(128, activation='relu'),  # 第二隐藏层\n",
    "    Dense(64, activation='relu'),   # 第三隐藏层\n",
    "    Dense(10, activation='softmax') # 输出层\n",
    "])\n",
    "\n",
    "# 编译模型\n",
    "model.compile(optimizer='adam',\n",
    "              loss='sparse_categorical_crossentropy',\n",
    "              metrics=['accuracy'])\n",
    "\n",
    "# 显示模型摘要\n",
    "model.summary()"
   ]
  },
  {
   "cell_type": "markdown",
   "metadata": {},
   "source": [
    "## 4. 训练模型\n",
    "\n",
    "在训练数据上训练 MLP，设置 10 个 epoch，并使用 20% 的验证集分割。"
   ]
  },
  {
   "cell_type": "code",
   "execution_count": null,
   "metadata": {},
   "outputs": [],
   "source": [
    "# 训练模型\n",
    "history = model.fit(x_train, y_train, epochs=10, batch_size=128,\n",
    "                    validation_split=0.2, verbose=1)"
   ]
  },
  {
   "cell_type": "markdown",
   "metadata": {},
   "source": [
    "## 5. 评估模型\n",
    "\n",
    "在测试集上评估模型，并绘制训练和验证的准确率及损失曲线。"
   ]
  },
  {
   "cell_type": "code",
   "execution_count": null,
   "metadata": {},
   "outputs": [],
   "source": [
    "# 在测试数据上评估\n",
    "test_loss, test_accuracy = model.evaluate(x_test, y_test, verbose=0)\n",
    "print(f'测试准确率: {test_accuracy:.4f}')\n",
    "\n",
    "# 绘制训练和验证准确率\n",
    "plt.figure(figsize=(12, 4))\n",
    "\n",
    "plt.subplot(1, 2, 1)\n",
    "plt.plot(history.history['accuracy'], label='训练准确率')\n",
    "plt.plot(history.history['val_accuracy'], label='验证准确率')\n",
    "plt.title('模型准确率')\n",
    "plt.xlabel('Epoch')\n",
    "plt.ylabel('准确率')\n",
    "plt.legend()\n",
    "plt.grid(True)\n",
    "\n",
    "# 绘制训练和验证损失\n",
    "plt.subplot(1, 2, 2)\n",
    "plt.plot(history.history['loss'], label='训练损失')\n",
    "plt.plot(history.history['val_loss'], label='验证损失')\n",
    "plt.title('模型损失')\n",
    "plt.xlabel('Epoch')\n",
    "plt.ylabel('损失')\n",
    "plt.legend()\n",
    "plt.grid(True)\n",
    "\n",
    "plt.savefig('training_metrics.png')"
   ]
  },
  {
   "cell_type": "markdown",
   "metadata": {},
   "source": [
    "## 6. 进行预测\n",
    "\n",
    "在几张测试图像上测试模型并显示预测结果。"
   ]
  },
  {
   "cell_type": "code",
   "execution_count": null,
   "metadata": {},
   "outputs": [],
   "source": [
    "# 在测试数据上进行预测\n",
    "predictions = model.predict(x_test[:5])\n",
    "predicted_labels = np.argmax(predictions, axis=1)\n",
    "\n",
    "# 显示预测结果\n",
    "plt.figure(figsize=(10, 2))\n",
    "for i in range(5):\n",
    "    plt.subplot(1, 5, i+1)\n",
    "    plt.imshow(x_test[i], cmap='gray')\n",
    "    plt.title(f'预测: {predicted_labels[i]}\\n真实: {y_test[i]}')\n",
    "    plt.axis('off')\n",
    "plt.savefig('predictions.png')"
   ]
  }
 ],
 "metadata": {
  "kernelspec": {
   "display_name": "Python 3",
   "language": "python",
   "name": "python3"
  },
  "language_info": {
   "codemirror_mode": {
    "name": "ipython",
    "version": 3
   },
   "file_extension": ".py",
   "mimetype": "text/x-python",
   "name": "python",
   "nbconvert_exporter": "python",
   "pygments_lexer": "ipython3",
   "version": "3.8.0"
  }
 },
 "nbformat": 4,
 "nbformat_minor": 4
}